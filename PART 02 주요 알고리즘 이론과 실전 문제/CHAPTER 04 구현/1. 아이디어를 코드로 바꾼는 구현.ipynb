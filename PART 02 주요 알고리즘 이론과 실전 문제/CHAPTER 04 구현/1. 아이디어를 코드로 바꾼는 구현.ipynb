{
 "cells": [
  {
   "cell_type": "code",
   "execution_count": 2,
   "metadata": {},
   "outputs": [],
   "source": [
    "# 풀이를 떠올리는 것은 쉽지만 소스코드로 옮기기 어려운 문제\n",
    "# 완전탐색(모든 경우의 수를 주저 없이 다 계산)\n",
    "# 시뮬레이션(문제에서 제시한 알고리즘을 한 단계씩 차례대로 직접 수행)"
   ]
  },
  {
   "cell_type": "code",
   "execution_count": 10,
   "metadata": {},
   "outputs": [
    {
     "name": "stdout",
     "output_type": "stream",
     "text": [
      "1 2\n",
      "1 3\n",
      "1 4\n",
      "2 4\n",
      "3 4\n"
     ]
    }
   ],
   "source": [
    "# 예제 4-1\n",
    "\n",
    "n = int(input())\n",
    "l = input().split() # 리스트 반환\n",
    "\n",
    "x, y = 1, 1\n",
    "\n",
    "for i in l:\n",
    "    if i == 'L':\n",
    "        if y == 1:\n",
    "            continue\n",
    "        else:\n",
    "            y -= 1\n",
    "    elif i == 'R':\n",
    "        if y == n:\n",
    "            continue\n",
    "        else:\n",
    "            y += 1\n",
    "    elif i == 'U':\n",
    "        if x == 1:\n",
    "            continue\n",
    "        else:\n",
    "            x -= 1\n",
    "    elif i == 'D':\n",
    "        if x == n:\n",
    "            continue\n",
    "        else:\n",
    "            x += 1\n",
    "\n",
    "print(x,y)"
   ]
  },
  {
   "cell_type": "code",
   "execution_count": null,
   "metadata": {},
   "outputs": [],
   "source": [
    "n = int(input())\n",
    "plans = input().split() # 리스트 반환\n",
    "\n",
    "x, y = 1, 1\n",
    "\n",
    "dx = [0,0,-1,1]\n",
    "dy = [-1,1,0,0]\n",
    "move_types = ['L','R','U','D']\n",
    "\n",
    "for plan in plans:\n",
    "    for i in range(len(move_types)):\n",
    "        if plan == move_types[i]:\n",
    "            nx = x + dx[i]\n",
    "            ny = y + dy[i]\n",
    "    if nx < 1 or ny < 1 or nx > n or nx > n:\n",
    "        continue\n",
    "    x, y = nx, ny\n",
    "\n",
    "print(x,y)"
   ]
  },
  {
   "cell_type": "code",
   "execution_count": 14,
   "metadata": {},
   "outputs": [
    {
     "name": "stdout",
     "output_type": "stream",
     "text": [
      "11475\n"
     ]
    }
   ],
   "source": [
    " # 예제 4-2\n",
    "\n",
    "n = int(input())\n",
    "\n",
    "sum = 0\n",
    "    \n",
    "for h in range(n+1):\n",
    "    for m in range(60):\n",
    "        for s in range(60):\n",
    "            if '3' in str(h) or '3' in str(m) or '3' in str(s):\n",
    "                sum += 1\n",
    "            \n",
    "print(sum)"
   ]
  },
  {
   "cell_type": "code",
   "execution_count": null,
   "metadata": {},
   "outputs": [],
   "source": []
  }
 ],
 "metadata": {
  "interpreter": {
   "hash": "aee8b7b246df8f9039afb4144a1f6fd8d2ca17a180786b69acc140d282b71a49"
  },
  "kernelspec": {
   "display_name": "Python 3.10.1 64-bit",
   "language": "python",
   "name": "python3"
  },
  "language_info": {
   "codemirror_mode": {
    "name": "ipython",
    "version": 3
   },
   "file_extension": ".py",
   "mimetype": "text/x-python",
   "name": "python",
   "nbconvert_exporter": "python",
   "pygments_lexer": "ipython3",
   "version": "3.10.1"
  },
  "orig_nbformat": 4
 },
 "nbformat": 4,
 "nbformat_minor": 2
}
