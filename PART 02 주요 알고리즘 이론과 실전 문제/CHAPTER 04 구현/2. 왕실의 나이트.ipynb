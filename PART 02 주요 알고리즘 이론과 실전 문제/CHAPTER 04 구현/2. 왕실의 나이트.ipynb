{
 "cells": [
  {
   "cell_type": "code",
   "execution_count": 7,
   "metadata": {},
   "outputs": [
    {
     "name": "stdout",
     "output_type": "stream",
     "text": [
      "6\n"
     ]
    }
   ],
   "source": [
    "p = input()\n",
    "\n",
    "x, y = p[0], p[1]\n",
    "\n",
    "sum = 0\n",
    "\n",
    "for i in [-2,2]:\n",
    "    for j in [-1,1]:\n",
    "        if i == 2 and x in ['g','h']:\n",
    "            continue\n",
    "        elif i == -2 and x in ['a','b']:\n",
    "            continue\n",
    "        if j == -1 and y == '1':\n",
    "            continue\n",
    "        elif j == 1 and y == '8':\n",
    "            continue\n",
    "        sum += 1\n",
    "\n",
    "for j in [-2,2]:\n",
    "    for i in [-1,1]:\n",
    "        if i == 1 and x == 'h':\n",
    "            continue\n",
    "        elif i == -1 and x == 'a':\n",
    "            continue\n",
    "        if j == -2 and y in ['1','2']:\n",
    "            continue\n",
    "        elif j == 2 and y == ['7','8']:\n",
    "            continue\n",
    "        sum += 1\n",
    "\n",
    "print(sum)"
   ]
  },
  {
   "cell_type": "code",
   "execution_count": 10,
   "metadata": {},
   "outputs": [
    {
     "name": "stdout",
     "output_type": "stream",
     "text": [
      "2\n"
     ]
    }
   ],
   "source": [
    "input_data = input()\n",
    "row = int(input_data[1])\n",
    "column = ord(input_data[0]) - ord('a') + 1\n",
    "\n",
    "steps = [(-2,-1),(-1,-2),(1,-2),(2,-1),(2,1),(1,2),(-1,2),(-2,1)]\n",
    "\n",
    "result = 0\n",
    "for step in steps:\n",
    "    next_row = row + step[0]\n",
    "    next_column = column + step[1]\n",
    "    if next_row >= 1 and next_row <= 8 and next_column >= 1 and next_column <= 8:\n",
    "        result += 1\n",
    "\n",
    "print(result)"
   ]
  },
  {
   "cell_type": "code",
   "execution_count": null,
   "metadata": {},
   "outputs": [],
   "source": []
  }
 ],
 "metadata": {
  "interpreter": {
   "hash": "aee8b7b246df8f9039afb4144a1f6fd8d2ca17a180786b69acc140d282b71a49"
  },
  "kernelspec": {
   "display_name": "Python 3.10.1 64-bit",
   "language": "python",
   "name": "python3"
  },
  "language_info": {
   "codemirror_mode": {
    "name": "ipython",
    "version": 3
   },
   "file_extension": ".py",
   "mimetype": "text/x-python",
   "name": "python",
   "nbconvert_exporter": "python",
   "pygments_lexer": "ipython3",
   "version": "3.10.1"
  },
  "orig_nbformat": 4
 },
 "nbformat": 4,
 "nbformat_minor": 2
}
