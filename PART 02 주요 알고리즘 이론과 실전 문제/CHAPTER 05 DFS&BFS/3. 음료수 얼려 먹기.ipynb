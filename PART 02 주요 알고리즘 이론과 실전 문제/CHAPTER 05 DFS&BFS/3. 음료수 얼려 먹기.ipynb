{
 "cells": [
  {
   "cell_type": "code",
   "execution_count": null,
   "metadata": {},
   "outputs": [],
   "source": [
    "# DFS\n",
    "# 1. 현재 노드 방문처리\n",
    "# 2. 방문하지 않은 노드 방문 후 방문 처리\n",
    "# 3. 재귀함수이므로 if로 중단"
   ]
  },
  {
   "cell_type": "code",
   "execution_count": null,
   "metadata": {},
   "outputs": [],
   "source": [
    "# 못 품"
   ]
  },
  {
   "cell_type": "code",
   "execution_count": 27,
   "metadata": {},
   "outputs": [
    {
     "name": "stdout",
     "output_type": "stream",
     "text": [
      "3\n"
     ]
    }
   ],
   "source": [
    "# DFS\n",
    "\n",
    "n, m = map(int,input().split())\n",
    "\n",
    "graph = []\n",
    "for i in range(n):\n",
    "    graph.append(list(map(int,input())))\n",
    "\n",
    "def dfs(x,y):\n",
    "    if x<=-1 or x>=n or y<=-1 or y>=m:\n",
    "        return False\n",
    "    if graph[x][y] == 0:\n",
    "        graph[x][y] = 1\n",
    "        dfs(x-1,y)\n",
    "        dfs(x,y-1)\n",
    "        dfs(x+1,y)\n",
    "        dfs(x,y+1)\n",
    "        return True\n",
    "    return False\n",
    "\n",
    "result = 0\n",
    "for i in range(n):\n",
    "    for j in range(m):\n",
    "        if dfs(i,j)==True:\n",
    "            result += 1\n",
    "\n",
    "print(result)"
   ]
  },
  {
   "cell_type": "code",
   "execution_count": null,
   "metadata": {},
   "outputs": [],
   "source": []
  }
 ],
 "metadata": {
  "interpreter": {
   "hash": "aee8b7b246df8f9039afb4144a1f6fd8d2ca17a180786b69acc140d282b71a49"
  },
  "kernelspec": {
   "display_name": "Python 3.10.1 64-bit",
   "language": "python",
   "name": "python3"
  },
  "language_info": {
   "codemirror_mode": {
    "name": "ipython",
    "version": 3
   },
   "file_extension": ".py",
   "mimetype": "text/x-python",
   "name": "python",
   "nbconvert_exporter": "python",
   "pygments_lexer": "ipython3",
   "version": "3.10.1"
  },
  "orig_nbformat": 4
 },
 "nbformat": 4,
 "nbformat_minor": 2
}
